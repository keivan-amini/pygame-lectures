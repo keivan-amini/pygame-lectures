{
 "cells": [
  {
   "cell_type": "markdown",
   "metadata": {},
   "source": [
    "## Prime lezioni, Domenica 26 giugno \n",
    "\n",
    "Per familiarizare, si parte dalla tecnica dei 3 post-it:\n",
    "- ciò che lo studente ha già fatto\n",
    "- i videogiochi che conoscono\n",
    "- cosa si aspettano di fare al summercamp\n",
    "\n",
    "Discussione su codice a blocchi/codice non a blocchi. Cos'è la programmazione.\n",
    "\n",
    "Esempio su Dungeons & Dragons. Categoria RPG: prendi esperienza, aumenti le statistiche, e così via.\n",
    "Il main tendenzialmente è quello che gestisce il giocatore, gli input, il nemico e le deicisioni.\n",
    "L'input gestisce le decisioni, come attaccare un mostro oppure no.\n",
    "\n",
    "\n",
    "Concetto di random number generator. Concetto di seed. Il dado come strumento per generare random numbers.\n",
    "Esempio di come un computer gestirebbe un RPG.\n",
    "\n",
    "\n",
    "Quindi questo è il modo in cui un computer gestirebbe un RPG, ad esempio con python. Ognuno di voi ha avuto un certo ruoLo che è stato chiamato dall'unità centrale, che è il main. Non chiamavo il giocatore quando si generava un random number ad esempio; questo è il concetto. Vi siete resi conto che mario non si ricordava il bonus per colpire, però lui sotto aveva un foglio. Se tu ti fossi scordato, pyhton ha una memoria migliore. Le macchine si ricordano solo quello che salvano in memoria.\n",
    "\n",
    "Questo è il concetto di VARIABILI. Vi chiedo quindi di cercare nel vostro desktop **Pycharm** community edition. pycharm è un ide: integrated developer environment, quindi uno spazio dis viluppo integrate, con tante funzionalità che permettono di programare velocemente. Con python si può programmare dal prompt dei comandi, ma è meglio avere qualche aiutino. \n",
    "\n",
    "Pycharm è uno dei tanti modi con cui puoi programmare in python. \n",
    "Un progetto è un insieme di cartelle che serve per far partire tutto. Progetto - game 2. \n",
    "Vi chiedo di muovere il vostro cursore e andare a premere il triangolo verde o premere f11 che fa partire il codice che abbiamo davanti a noi. dovrebbe apparire hi pycharm.\n",
    "\n",
    "Spiegazione del sistema delle cartelle in pycharm. Questo è main.py, il file principale, il fulcro del nostro programma che partirà per primo e gestirà tutto il processo. main.py perchè stiamo utilizzando python; ma si possono usare altri linguaggi di programmazione.\n",
    "\n",
    "Il primo comando di python è print(). Questo spazio qui a differenza di scratch, io non ho a fianco dei blocchi; io posso scrivere quello che mi pare."
   ]
  },
  {
   "cell_type": "code",
   "execution_count": 2,
   "metadata": {},
   "outputs": [
    {
     "name": "stdout",
     "output_type": "stream",
     "text": [
      "Donkey Kong dice uhhh... Banana\n"
     ]
    }
   ],
   "source": [
    "print(\"Donkey Kong dice uhhh... Banana\")"
   ]
  },
  {
   "cell_type": "markdown",
   "metadata": {},
   "source": [
    "In python, come in italiano, esiste un modo e un ordine corretto per parlare. Questa è la sintassi.\n",
    "Se vogliamo parlare una lingua diversa da python, dobbiamo usare il cancelletto. questo corrisponde a commentare il codice. Serve anche a ordinare il codice, come degli appunti su un foglio.\n",
    "Quindi print è un comando speciale capace di stampare e riportare del testo. Il testo deve essere tra virgolette, e possiamo scrivere ciò che ci pare.\n",
    "\n",
    "Il concetto di compilatore e interprete. Adesso pausa e poi introduzione delle variabili.\n",
    "\n",
    "------------------------------------------------------------------------"
   ]
  },
  {
   "cell_type": "markdown",
   "metadata": {},
   "source": [
    "## Variabili\n",
    "\n",
    "Le variabili sono utile per salvarsi le informazioni importanti. "
   ]
  },
  {
   "cell_type": "code",
   "execution_count": 3,
   "metadata": {},
   "outputs": [],
   "source": [
    "# Donkey Kong = 10 non va bene!\n",
    "Donkey_Kong = 10 # assegnazione di variabile"
   ]
  },
  {
   "cell_type": "markdown",
   "metadata": {},
   "source": [
    "Quanti tipi di variabili esistono?\n",
    "Un numero tipo 10, dato che npn ha una virgola è un intero, o se vogliamo usare un termine inglese integer, ossia in nomenclatura **INT**. \n",
    "Io sto prendendo un numero e lo sto assegnando ad una variabile. Ad esempio, 10 potrebbero essere i punti vita del mostro. \n",
    "\n",
    "Una cosa bella di python è il typing dinamico. Su C e C++ bisogna specificare e dichiarare se la variabile che stiamo creando è un intero, un float o cosa.\n",
    "\n",
    "Un insieme di lettere corrisponde ad una stringa. una stringa si definisce con delle virgolette su python. "
   ]
  },
  {
   "cell_type": "code",
   "execution_count": 5,
   "metadata": {},
   "outputs": [
    {
     "name": "stdout",
     "output_type": "stream",
     "text": [
      "sono esageratamente euforico\n",
      "dhjsdhf4738738282\n"
     ]
    }
   ],
   "source": [
    "stringa = \"sono esageratamente euforico\"\n",
    "print(stringa)\n",
    "\n",
    "stringa_complicata = \"dhjsdhf4738738282\"\n",
    "print(stringa_complicata)"
   ]
  },
  {
   "cell_type": "code",
   "execution_count": 6,
   "metadata": {},
   "outputs": [
    {
     "ename": "NameError",
     "evalue": "name 'donkey_kong' is not defined",
     "output_type": "error",
     "traceback": [
      "\u001b[1;31m---------------------------------------------------------------------------\u001b[0m",
      "\u001b[1;31mNameError\u001b[0m                                 Traceback (most recent call last)",
      "\u001b[1;32mUntitled-1.ipynb Cell 8'\u001b[0m in \u001b[0;36m<cell line: 1>\u001b[1;34m()\u001b[0m\n\u001b[1;32m----> <a href='vscode-notebook-cell:Untitled-1.ipynb?jupyter-notebook#ch0000009untitled?line=0'>1</a>\u001b[0m \u001b[39mprint\u001b[39m(donkey_kong)\n\u001b[0;32m      <a href='vscode-notebook-cell:Untitled-1.ipynb?jupyter-notebook#ch0000009untitled?line=1'>2</a>\u001b[0m donkey_kong \u001b[39m=\u001b[39m \u001b[39m44\u001b[39m\n",
      "\u001b[1;31mNameError\u001b[0m: name 'donkey_kong' is not defined"
     ]
    }
   ],
   "source": [
    "print(donkey_kong)\n",
    "donkey_kong = 44"
   ]
  },
  {
   "cell_type": "markdown",
   "metadata": {},
   "source": [
    "Abbiamo l'errore semplicemente perchè abbiamo specificato cos'è la variabile donkey_gong dopo averla utilizzata. Sto provando a usare una variabile che ancora non è stata definita e inizializzata. Dunque ogni volta che scriviamo un codice dobbiamo scrivere all'inizio tutte le variabili che utlizziamo."
   ]
  },
  {
   "cell_type": "markdown",
   "metadata": {},
   "source": [
    "Python è strutturato in modo tale da favorire il linguaggio della matematica. La cosa ci piace perchè quando si programma la matematica è fondamentale.\n",
    "\n",
    "### Cosa printa questo codice ?"
   ]
  },
  {
   "cell_type": "code",
   "execution_count": 7,
   "metadata": {},
   "outputs": [
    {
     "name": "stdout",
     "output_type": "stream",
     "text": [
      "20\n",
      "intero + 10\n",
      "10\n"
     ]
    }
   ],
   "source": [
    "intero = 10\n",
    "\n",
    "print(10+10)\n",
    "print(\"intero + 10\")\n",
    "print(intero)"
   ]
  },
  {
   "cell_type": "code",
   "execution_count": 9,
   "metadata": {},
   "outputs": [],
   "source": [
    "a = 10 + 10\n",
    "b = a + 10"
   ]
  },
  {
   "cell_type": "markdown",
   "metadata": {},
   "source": [
    "Esistono anche altre variabili, cioè i **float**, che banalmente corrispondono ai numeri con le virgole. Si parla invece di **variabili booleane** quando possiamo scegliere tra due possibili valori:"
   ]
  },
  {
   "cell_type": "code",
   "execution_count": 12,
   "metadata": {},
   "outputs": [
    {
     "data": {
      "text/plain": [
       "False"
      ]
     },
     "execution_count": 12,
     "metadata": {},
     "output_type": "execute_result"
    }
   ],
   "source": [
    "float = 0.2\n",
    "stringhe = \"ciao\"\n",
    "\n",
    "boolean = True\n",
    "boolean = False\n",
    "\n",
    "2 + 1 == 4 #output \"False\""
   ]
  },
  {
   "cell_type": "markdown",
   "metadata": {},
   "source": [
    "Facciamo ora qualcosa di più interessante. Strutturiamo un semplice esempio di programma main.py.\n",
    "\n",
    "Introduciamo le librerie. Le librerie sono dei moduli che permettono di farti accedere a specifiche funzionalità. Esiste ad esempio una libreria che permette di generare numeri casuali, come se tirassimo un dado. Questa libreria si chiama **random**."
   ]
  },
  {
   "cell_type": "code",
   "execution_count": 2,
   "metadata": {},
   "outputs": [
    {
     "name": "stdout",
     "output_type": "stream",
     "text": [
      "9\n",
      "13\n",
      "17\n",
      "12\n",
      "10\n",
      "mancato\n",
      "20\n"
     ]
    }
   ],
   "source": [
    "# IMPORT ZONE\n",
    "import random\n",
    "\n",
    "\n",
    "# PLAYER AREA\n",
    "\n",
    "player_ac = 15\n",
    "player_atk = 5\n",
    "player_hp = 30 #health points\n",
    "\n",
    "# MONSTER AREA\n",
    "\n",
    "monster_ac = 16\n",
    "monster_atk = 4\n",
    "monster_hp = 22\n",
    "\n",
    "# RNG AREA\n",
    "\n",
    "print(random.randint(1,20)) #printa un numero a caso 1 <= N <= 20\n",
    "print(random.randint(1,20))\n",
    "print(random.randint(1,20))\n",
    "print(random.randint(1,20))\n",
    "\n",
    "\n",
    "\n",
    "# INPUT ZONE\n",
    "\"\"\"\n",
    "Noi vorremmo cercare di simulare quello che abbiamo fatto prima.\n",
    "Prendiamo il numero che esce dal dado e lo sommiamo all'attacco del giocatore.\n",
    "Se il risultato è un numero abbastaza grande, possiamo\n",
    "\"\"\"\n",
    "\n",
    "atk_total = random.randint(1,20) + player_atk\n",
    "\n",
    "if atk_total >= monster_ac:\n",
    "    print(atk_total)\n",
    "    print(\"colpito\") # e qua si può introdurre il concetto di indentazione e tab\n",
    "\n",
    "else: #queste righe di codice le presenti prima senza if, poi con if, e poi con elif, spiegando le differenza tra if,elif,els\n",
    "    print(atk_total)    \n",
    "    print(\"mancato\")\n",
    "\n",
    "while atk_total <= monster_ac: #introduciamo ora il cilo while\n",
    "  atk_total = random.randint(1,20) + player_atk\n",
    "  print(atk_total)\n"
   ]
  },
  {
   "cell_type": "markdown",
   "metadata": {},
   "source": [
    "Possiamo combinare tutte queste strutture ed inserirle dentro un unico while. In questo modo dobbiamo però stare attenti all'**indentazione**!"
   ]
  },
  {
   "cell_type": "code",
   "execution_count": 14,
   "metadata": {},
   "outputs": [
    {
     "name": "stdout",
     "output_type": "stream",
     "text": [
      "13\n",
      "11\n",
      "16\n",
      "16\n",
      "colpito\n",
      "13\n",
      "9\n",
      "21\n",
      "21\n",
      "colpito\n",
      "21\n",
      "mancato\n"
     ]
    }
   ],
   "source": [
    "# INPUT ZONE\n",
    "atk_total = 0\n",
    "atk_total = random.randint(1,20) + player_atk\n",
    "\n",
    "while atk_total <= monster_ac: #introduciamo ora il cilo while\n",
    "  atk_total = random.randint(1,20) + player_atk\n",
    "  print(atk_total)\n",
    "  if atk_total >= monster_ac:\n",
    "    print(atk_total)\n",
    "    print(\"colpito\") # e qua si può introdurre il concetto di indentazione e tab\n",
    "\n",
    "else: #queste righe di codice le presenti prima senza if, poi con if, e poi con elif, spiegando le differenza tra if,elif,els\n",
    "    print(atk_total)    \n",
    "    print(\"mancato\")\n",
    "\n"
   ]
  },
  {
   "cell_type": "markdown",
   "metadata": {},
   "source": [
    "Adesso tutto questo programma può essere cancellato.\n",
    "Introduciamo la libreria che andremo a utilizzare, **pygame**.\n",
    "# Pygame\n",
    "Pygame è una libreria che è stata scritta da alcuni fan dei videogiochi che avevano l'obiettivo di sviluppare una libreria che rendesse semplice la programmazione di videogiochi su Python. Per importarla basta semplicemente digitare:"
   ]
  },
  {
   "cell_type": "code",
   "execution_count": 2,
   "metadata": {},
   "outputs": [
    {
     "name": "stdout",
     "output_type": "stream",
     "text": [
      "pygame 2.1.2 (SDL 2.0.18, Python 3.9.13)\n",
      "Hello from the pygame community. https://www.pygame.org/contribute.html\n"
     ]
    },
    {
     "data": {
      "text/plain": [
       "(5, 0)"
      ]
     },
     "execution_count": 2,
     "metadata": {},
     "output_type": "execute_result"
    }
   ],
   "source": [
    "import sys #utile per interagire con il sistema operativo\n",
    "import pygame\n",
    "\n",
    "pygame.init()"
   ]
  },
  {
   "cell_type": "markdown",
   "metadata": {},
   "source": [
    "Potrebbe dare un errore. Bisogna infatti installare la libreria, perchè pygame è una libreria *esterna*. Al contrario, random ad esempio è una libreria interna, che non ha bisogno di un installazione, è già implementata.\n",
    "\n",
    "Per installare la libreria pygame su Pycharm:\n",
    "\n",
    "File -> Settings -> Project: nomeprogetto -> Python Interpreter -> Clicca sul + e cerca pygame."
   ]
  },
  {
   "cell_type": "markdown",
   "metadata": {},
   "source": [
    "pygame.init() è la funzione che fa partire tutti i processi associati a pygame.\n",
    "\n",
    "Facciamo adesso qualcosa di più serio, partendo dalla grafica che è una parte importante di un videogioco. Come si crea uno schermo?"
   ]
  },
  {
   "cell_type": "code",
   "execution_count": null,
   "metadata": {},
   "outputs": [],
   "source": [
    "pygame.display.set_mode((500, 500))\n",
    "\n",
    "# vuole le dimensioni dello schermo che vuoi creare.\n",
    "#  La scrittura (500,500) è matematicamente una struttura che prende \n",
    "# il nome di vettore, ossia un insieme di numeri ordinati."
   ]
  },
  {
   "cell_type": "markdown",
   "metadata": {},
   "source": [
    "Però ha molto senso definirlo all'interno di una variabile, cosìcchè si possa modificare in futuro, ad esempio ingrandendolo, cambiando la risoluzione, muovendolo nello schermo. Quindi lo definiamo all'interno di una variabile:"
   ]
  },
  {
   "cell_type": "code",
   "execution_count": 20,
   "metadata": {},
   "outputs": [],
   "source": [
    "screen = pygame.display.set_mode((800,600))"
   ]
  },
  {
   "cell_type": "markdown",
   "metadata": {},
   "source": [
    "Che potrebbe dare errore. In realtà dovremmo anche dargli un \"tempo\" in cui si deve mostrare il display. Qual è una funziona che abbiamo visto"
   ]
  },
  {
   "cell_type": "code",
   "execution_count": null,
   "metadata": {},
   "outputs": [],
   "source": [
    "while True:\n",
    "    # voglio che se premo la X della finestra, si chiude tutto.\n",
    "    pass    "
   ]
  },
  {
   "cell_type": "markdown",
   "metadata": {},
   "source": [
    "Il comando pass riempe una riga, ma non fa nulla. In questo modo non otteniamo nessun errore."
   ]
  },
  {
   "cell_type": "markdown",
   "metadata": {},
   "source": [
    "In pygame esiste un modulo che si chiama *event*. Dentro *event* si può chiamare un comando che si chiama *get*. Questo ci dà una lista di tutti gli eventi che stanno avvenendo."
   ]
  },
  {
   "cell_type": "code",
   "execution_count": null,
   "metadata": {},
   "outputs": [],
   "source": [
    "while True:\n",
    "    print(pygame.event.get())\n",
    "\n",
    "# printa sempre parentesi quadre, ma ogni tanto printa un enorme\n",
    "# stringa di \"cose\" non ben definite. Come un bip in un radar, in quest'\n",
    "# istante il giocatore ha premuto il mouse."
   ]
  },
  {
   "cell_type": "code",
   "execution_count": null,
   "metadata": {},
   "outputs": [],
   "source": [
    "while True:\n",
    "    for event in pygame.event.get():\n",
    "        print(event)"
   ]
  },
  {
   "cell_type": "markdown",
   "metadata": {},
   "source": [
    "### Tipi di evento\n",
    "\n",
    "- keydown significa *premi il pulsante*\n",
    "- key up significa  *lascia il pulsante*\n",
    "- Quit  significa *premi la X sullo schermo*"
   ]
  },
  {
   "cell_type": "code",
   "execution_count": null,
   "metadata": {},
   "outputs": [],
   "source": [
    "while True:\n",
    "    for event in pygame.event.get():\n",
    "        if event.type == pygame.QUIT:\n",
    "            pygame.quit()\n",
    "            sys.exit()\n",
    "\n",
    "# Quindi, scorrendo tutti gli eventi, se uno di questi corrisponde \n",
    "# al premre la X della finestra, ALLORA chiudi tutto!\n"
   ]
  },
  {
   "cell_type": "markdown",
   "metadata": {},
   "source": [
    "Però magari vogliamo uno schermo di colore diverso. Per questo, possiamo utilizzare la funzione screen.fill(), dove screen è proprio il nome della nostra variabile. Scriendo screen. notiamo che possiamo fare tantissime cose."
   ]
  },
  {
   "cell_type": "code",
   "execution_count": null,
   "metadata": {},
   "outputs": [],
   "source": [
    "screen = pygame.display.set_mode((800,600))\n",
    "\n",
    "\n",
    "while True:\n",
    "    for event in pygame.event.get():\n",
    "        if event.type == pygame.QUIT:\n",
    "            pygame.quit()\n",
    "            sys.exit()\n",
    "\n",
    "    screen.fill('orange')\n",
    "    pygame.display.update() #per aggiornare i cambiamenti che abbiamo fatto sullo schermo\n"
   ]
  },
  {
   "cell_type": "markdown",
   "metadata": {},
   "source": [
    "Procediamo inserendo delle immagini.\n",
    "\n",
    "Tasto destro sul progetto -> Open in -> Explorer.\n",
    "\n",
    "Dovrebbero esserci delle cartelle chiamate \"img\" e \"sound\". Copiate queste cartelle e in collatele nelle vostre cartelle del progetto.\n",
    "\n",
    "Ciò che avete fatto è stato importare delle cartelle conteneti immagini e suoni come se fossero risorse. In questo modo dovreste avere la struttura delle cartelle su pycharm aggiornata. Adesso proveremo a mettere *Super Mario* nel nostro schermo di pygame."
   ]
  },
  {
   "cell_type": "code",
   "execution_count": null,
   "metadata": {},
   "outputs": [],
   "source": [
    "screen = pygame.display.set_mode((800,600))\n",
    "\n",
    "#image zone\n",
    "luigi = pygame.image.load('C:\\\\Users\\\\ASUS\\\\OneDrive - Alma Mater Studiorum Università di Bologna\\\\Documents\\\\Lavoro - Educatore Digitale\\\\Montecreto\\\\giochi dei ragazzi\\\\Alex\\\\img\\\\Luigi.png')\n",
    "# in teoria puoi scrivere pygame.image.load(\"img/mario.png\")\n",
    "\n",
    "while True:\n",
    "    for event in pygame.event.get():\n",
    "        if event.type == pygame.QUIT:\n",
    "            pygame.quit()\n",
    "            sys.exit()\n",
    "\n",
    "    screen.fill('orange')\n",
    "    screen.blit(luigi,(400,300)) #cioè, DISEGNA luigi sopra lo schermo\n",
    "    pygame.display.update() "
   ]
  },
  {
   "cell_type": "markdown",
   "metadata": {},
   "source": [
    "### Introduzione Piano Cartesiano\n",
    "In pygame il piano cartesiano ha l'asse y orientato verso il basso. Nello schermo, il punto (0,0) è in alto a sinistra.\n",
    "\n",
    "Le immagini in Pygame hanno il centro in alto a sinistra. Ciò significa che se mettiamo Luigi nella posizione (0,0), Luigi sarà in alto a sinistra."
   ]
  },
  {
   "cell_type": "code",
   "execution_count": null,
   "metadata": {},
   "outputs": [],
   "source": [
    "screen = pygame.display.set_mode((800,600))\n",
    "\n",
    "#image zone\n",
    "luigi = pygame.image.load('C:\\\\Users\\\\ASUS\\\\OneDrive - Alma Mater Studiorum Università di Bologna\\\\Documents\\\\Lavoro - Educatore Digitale\\\\Montecreto\\\\giochi dei ragazzi\\\\Alex\\\\img\\\\Luigi.png')\n",
    "luigiX = 800\n",
    "luigiY = 400\n",
    "\n",
    "while True:\n",
    "    for event in pygame.event.get():\n",
    "        if event.type == pygame.QUIT:\n",
    "            pygame.quit()\n",
    "            sys.exit()\n",
    "\n",
    "    luigiX = luigiX -1\n",
    "    luigiY = luigiY -1 #provate a farlo scendere dal cielo!\n",
    "    screen.fill('orange')\n",
    "    screen.blit(luigi,(luigiX,luigiY)) \n",
    "    pygame.display.update() "
   ]
  },
  {
   "cell_type": "markdown",
   "metadata": {},
   "source": [
    "Mario si muove in maniera un po' strana: dipende dalle prestazioni del programma e dell'editor. Ma non va bene questo approccio nei videogiochi, perchè noi vogliamo che la velocità del gioco sia fissa. Quindi definiamo la variabile clock, all'inizio del programma:"
   ]
  },
  {
   "cell_type": "code",
   "execution_count": null,
   "metadata": {},
   "outputs": [],
   "source": [
    "clock = pygame.time.Clock()"
   ]
  },
  {
   "cell_type": "markdown",
   "metadata": {},
   "source": [
    "Questa variabile **controlla il tempo del gioco**. Dunque alla fine del nostro ciclo while, dobbiamo mettere:"
   ]
  },
  {
   "cell_type": "code",
   "execution_count": null,
   "metadata": {},
   "outputs": [],
   "source": [
    "clock.tick(60) #60 cicli while ogni secondo"
   ]
  },
  {
   "cell_type": "markdown",
   "metadata": {},
   "source": [
    "Quindi alla fine:"
   ]
  },
  {
   "cell_type": "code",
   "execution_count": null,
   "metadata": {},
   "outputs": [],
   "source": [
    "import pygame\n",
    "import sys\n",
    "\n",
    "screen = pygame.display.set_mode((800,600))\n",
    "clock = pygame.time.Clock()\n",
    "\n",
    "#image zone\n",
    "luigi = pygame.image.load('C:\\\\Users\\\\ASUS\\\\OneDrive - Alma Mater Studiorum Università di Bologna\\\\Documents\\\\Lavoro - Educatore Digitale\\\\Montecreto\\\\giochi dei ragazzi\\\\Alex\\\\img\\\\Luigi.png')\n",
    "luigiX = 800\n",
    "luigiY = 400\n",
    "\n",
    "while True:\n",
    "    for event in pygame.event.get():\n",
    "        if event.type == pygame.QUIT:\n",
    "            pygame.quit()\n",
    "            sys.exit()\n",
    "\n",
    "    luigiX = luigiX -1\n",
    "    luigiY = luigiY -1 #provate a farlo scendere dal cielo!\n",
    "    screen.fill('orange')\n",
    "    screen.blit(luigi,(luigiX,luigiY)) \n",
    "    pygame.display.update() \n",
    "\n",
    "    clock.tick(60)"
   ]
  },
  {
   "cell_type": "markdown",
   "metadata": {},
   "source": [
    "E in questo contesto luigi si muoverà a 60 FPS."
   ]
  }
 ],
 "metadata": {
  "kernelspec": {
   "display_name": "Python 3.9.13 64-bit (windows store)",
   "language": "python",
   "name": "python3"
  },
  "language_info": {
   "codemirror_mode": {
    "name": "ipython",
    "version": 3
   },
   "file_extension": ".py",
   "mimetype": "text/x-python",
   "name": "python",
   "nbconvert_exporter": "python",
   "pygments_lexer": "ipython3",
   "version": "3.9.13"
  },
  "orig_nbformat": 4,
  "vscode": {
   "interpreter": {
    "hash": "a5a87ee616be0254e3f1af9223138e3faeac65b2c9d91bc22a9fc5a4a8bd8eb0"
   }
  }
 },
 "nbformat": 4,
 "nbformat_minor": 2
}
