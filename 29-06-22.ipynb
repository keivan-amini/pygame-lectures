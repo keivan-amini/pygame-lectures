{
 "cells": [
  {
   "cell_type": "markdown",
   "metadata": {},
   "source": [
    "# Mercoledì 29 giugno 2022\n",
    "Vogliamo creare qualcosa che ci permetta di perdere o vincere, per dare completezza al nostro gioco e renderlo più competitivo e difficile.\n",
    "Creiamo quindi un nuovo modulo, che chiameremo enemy.py. Ci serve per creare una classe per fare un sistema molto simile a quello del giocatore. Quindi copiamo e incolliamo per adesso, cambiando nome alla classe da Player a Enemy"
   ]
  },
  {
   "cell_type": "code",
   "execution_count": null,
   "metadata": {},
   "outputs": [],
   "source": [
    "#enemy.py\n",
    "import math\n",
    "import pygame.sprite\n",
    "\n",
    "# inizializzazione di ogni player \n",
    "class Enemy(pygame.sprite.Sprite):\n",
    "\n",
    "    def __init__(self, image, pos): #self si riferisce al nemico specifico\n",
    "        super().__init__() \n",
    "        self.image = image \n",
    "        self.original_image = image\n",
    "        self.rect = self.image.get_rect() \n",
    "        self.rect.topleft = pos \n",
    "                \n",
    "        self.speed = 5\n",
    "        self.direction = pygame.math.Vector2(0,0)"
   ]
  },
  {
   "cell_type": "markdown",
   "metadata": {},
   "source": [
    "Nela #sprite zone del main.py possiamo introdurre:"
   ]
  },
  {
   "cell_type": "code",
   "execution_count": null,
   "metadata": {},
   "outputs": [],
   "source": [
    "enemy_group = pygame.sprite.Group()"
   ]
  },
  {
   "cell_type": "markdown",
   "metadata": {},
   "source": [
    "Nell'#update area possiamo introdurre:"
   ]
  },
  {
   "cell_type": "code",
   "execution_count": null,
   "metadata": {},
   "outputs": [],
   "source": [
    "enemy_group.update"
   ]
  },
  {
   "cell_type": "markdown",
   "metadata": {},
   "source": [
    "Ci serve però un'immagine del nemico. Si può usare pixlr.com per tagliare il rettangolo associato all'immagine, che chiamiamo zombie.png.\n",
    "Nell'image zone:"
   ]
  },
  {
   "cell_type": "code",
   "execution_count": null,
   "metadata": {},
   "outputs": [],
   "source": [
    "enemy_image = pygame.image.load(\"img/zomibie.png\")\n",
    "zombie = enemy.Enemy(enemy_image,(400,500)) #pesca dal modulo enemy, la classe Enemy e setta come immagine zombie enemy con quella grandezza"
   ]
  },
  {
   "cell_type": "markdown",
   "metadata": {},
   "source": [
    "Nella sprite zone poi aggiungiamo:"
   ]
  },
  {
   "cell_type": "code",
   "execution_count": null,
   "metadata": {},
   "outputs": [],
   "source": [
    "enemy_group.add(zombie)"
   ]
  },
  {
   "cell_type": "markdown",
   "metadata": {},
   "source": [
    "Nella draw area:"
   ]
  },
  {
   "cell_type": "code",
   "execution_count": null,
   "metadata": {},
   "outputs": [],
   "source": [
    "enemy_group.draw(screen)"
   ]
  },
  {
   "cell_type": "markdown",
   "metadata": {},
   "source": [
    "Quindi, fino ad adesso, il codice main.py sarà:"
   ]
  },
  {
   "cell_type": "code",
   "execution_count": null,
   "metadata": {},
   "outputs": [],
   "source": [
    "#main.py\n",
    "import random\n",
    "import sys\n",
    "import pygame\n",
    "import player\n",
    "import math\n",
    "import enemy\n",
    "\n",
    "# per far partire i processi di pygame, devo far partire l' init\n",
    "pygame.init()\n",
    "clock = pygame.time.Clock()\n",
    "pygame.display.set_caption(\"Montecreto Mount of Madness\")\n",
    "screen = pygame.display.set_mode((800, 600))\n",
    "\n",
    "# image zone\n",
    "image = pygame.image.load(\"C:\\\\Users\\\\ASUS\\\\OneDrive - Alma Mater Studiorum Università di Bologna\\\\Documents\\\\Lavoro - Educatore Digitale\\\\Montecreto\\\\giochi dei ragazzi\\\\Alex\\\\img\\\\Luigi.png\")\n",
    "mario1 = player.Player(image, (400, 300))\n",
    "enemy_image = pygame.image.load(\"img/zomibie.png\")\n",
    "zombie = enemy.Enemy(enemy_image,(400,500)) #pesca dal modulo enemy, la classe Enemy e setta come immagine zombie enemy con quella grandezza\n",
    "\n",
    "# sprite zone\n",
    "player_group = pygame.sprite.Group()\n",
    "player_group.add(mario1)\n",
    "enemy_group = pygame.sprite.Group()\n",
    "enemy_group.add(zombie)\n",
    "\n",
    "\n",
    "\n",
    "# gameplay cycle\n",
    "while True:\n",
    "    mouse_x, mouse_y = pygame.mouse.get_pos()\n",
    "    # INPUT CONTROL AREA\n",
    "    for event in pygame.event.get():\n",
    "        # key press event\n",
    "        if event.type == pygame.KEYDOWN:\n",
    "            if event.key == pygame.K_RIGHT or event.key == pygame.K_d:\n",
    "                mario1.direction.x = 1\n",
    "            elif event.key == pygame.K_LEFT or event.key == pygame.K_a:\n",
    "                mario1.direction.x = -1\n",
    "            elif event.key == pygame.K_UP or event.key == pygame.K_w:\n",
    "                mario1.direction.y = -1\n",
    "            elif event.key == pygame.K_DOWN or event.key == pygame.K_s:\n",
    "                mario1.direction.y = +1\n",
    "        #key left event -> quando lascio il tasto, la velocità si ferma.\n",
    "        if event.type == pygame.KEYUP:\n",
    "            if (event.key == pygame.K_RIGHT or event.key == pygame.K_d) and mario1.direction.x == 1: #se lascio la freccia destra o freccia d e se la direzione x vale 1, allora \n",
    "                mario1.direction.x = 0\n",
    "            elif (event.key == pygame.K_LEFT or event.key == pygame.K_a) and mario1.direction.x == -1:\n",
    "                mario1.direction.x = 0\n",
    "            elif (event.key == pygame.K_UP or event.key == pygame.K_w) and mario1.direction.y == -1:\n",
    "                mario1.direction.y = 0\n",
    "            elif (event.key == pygame.K_DOWN or event.key == pygame.K_s) and mario1.direction.y == 1:\n",
    "                mario1.direction.y = 0\n",
    "         \n",
    "\n",
    "        # se l'evento è di tipo QUIT...\n",
    "        if event.type == pygame.QUIT:\n",
    "            pygame.quit()\n",
    "            sys.exit()\n",
    "\n",
    "    # update area\n",
    "    player_group.update(mouse_x,mouse_y)\n",
    "    enemy_group.update()\n",
    "\n",
    "    # draw area --- background goes first, then the rest\n",
    "    screen.fill(\"#45d1a0\")\n",
    "    # x,y = pygame.mouse.get_pos()\n",
    "    # screen.blit(image,(x,y))\n",
    "    player_group.draw(screen)\n",
    "    enemy_group.draw(screen)\n",
    "    pygame.display.update()\n",
    "    clock.tick(60)"
   ]
  },
  {
   "cell_type": "markdown",
   "metadata": {},
   "source": [
    "Dobbiamo però anche fare l'update di enemy.py: vogliamo far spownare lo zombie nello schermo e farlo salire."
   ]
  },
  {
   "cell_type": "code",
   "execution_count": null,
   "metadata": {},
   "outputs": [],
   "source": [
    "#enemy.py\n",
    "import math\n",
    "import pygame.sprite\n",
    "\n",
    "# inizializzazione di ogni player \n",
    "class Enemy(pygame.sprite.Sprite):\n",
    "\n",
    "    def __init__(self, image, pos): #self si riferisce al nemico specifico\n",
    "        super().__init__() \n",
    "        self.image = image \n",
    "        self.original_image = image\n",
    "        self.rect = self.image.get_rect() \n",
    "        self.rect.topleft = pos \n",
    "                \n",
    "        self.speed = 1 #uno zombie va più lento\n",
    "        self.direction = pygame.math.Vector2(0,0)\n",
    "\n",
    "    def update(self):\n",
    "        self.rect.y -= self.speed "
   ]
  },
  {
   "cell_type": "markdown",
   "metadata": {},
   "source": [
    "C'è un grande problema però: non vi è nessuna collisione tra mario e lo zombie. Lo zombie passa attraverso mario, non c'è nessuno scontro. Infatti quando si programma è necessario specificare ogni cosa.\n",
    "\n",
    "L'ordine in cui specifichiamo le cose nella draw area è importantissimo. Infatti nella draw area stiamo proprio costruendo degli strati."
   ]
  },
  {
   "cell_type": "markdown",
   "metadata": {},
   "source": [
    "Come facciamo a fare in modo che lo zombie ci possa toccare?\n",
    "Ci serve un modulo che abbia accesso sia i giocatori che i mostri. L'unico modulo che vede tutto per il momento è main.py. Quindi, in questo grande ciclo while possiamo scrivere delle righe di codice associate al controllo delle collisioni.\n",
    "La collisione avviene quando i due rettangoli associati ai personaggi si intersecano.\n",
    "\n",
    "Una bozza potrebbe essere:"
   ]
  },
  {
   "cell_type": "code",
   "execution_count": null,
   "metadata": {},
   "outputs": [],
   "source": [
    "if hero.rect.colliderect(zombie.rect):\n",
    "    print(\"Collisione!\")"
   ]
  },
  {
   "cell_type": "markdown",
   "metadata": {},
   "source": [
    "Sarebbe meglio controllare se sono i nemici a toccare il giocatore e non il viceversa. Noi vogliamo:"
   ]
  },
  {
   "cell_type": "code",
   "execution_count": null,
   "metadata": {},
   "outputs": [],
   "source": [
    "if zombie.rect.collidirect(hero.rect):\n",
    "    print(\"la fess e mammt\")"
   ]
  },
  {
   "cell_type": "markdown",
   "metadata": {},
   "source": [
    "E adesso facciamoci un ciclo for, in modo tale che ciò possa funzionare per infiniti zombie.\n",
    "Introduciamo quindi la **Collision control area** in main.py, che situeremo prima dell'update area."
   ]
  },
  {
   "cell_type": "code",
   "execution_count": null,
   "metadata": {},
   "outputs": [],
   "source": [
    "#main.py\n",
    "import random\n",
    "import sys\n",
    "import pygame\n",
    "import player\n",
    "import math\n",
    "import enemy\n",
    "\n",
    "# per far partire i processi di pygame, devo far partire l' init\n",
    "pygame.init()\n",
    "clock = pygame.time.Clock()\n",
    "pygame.display.set_caption(\"Montecreto Mount of Madness\")\n",
    "screen = pygame.display.set_mode((800, 600))\n",
    "\n",
    "# image zone\n",
    "image = pygame.image.load(\"C:\\\\Users\\\\ASUS\\\\OneDrive - Alma Mater Studiorum Università di Bologna\\\\Documents\\\\Lavoro - Educatore Digitale\\\\Montecreto\\\\giochi dei ragazzi\\\\Alex\\\\img\\\\Luigi.png\")\n",
    "mario1 = player.Player(image, (400, 300))\n",
    "enemy_image = pygame.image.load(\"img/zomibie.png\")\n",
    "zombie = enemy.Enemy(enemy_image,(400,500)) #pesca dal modulo enemy, la classe Enemy e setta come immagine zombie enemy con quella grandezza\n",
    "\n",
    "# sprite zone\n",
    "player_group = pygame.sprite.Group()\n",
    "player_group.add(mario1)\n",
    "enemy_group = pygame.sprite.Group()\n",
    "enemy_group.add(zombie)\n",
    "\n",
    "\n",
    "\n",
    "# gameplay cycle\n",
    "while True:\n",
    "    mouse_x, mouse_y = pygame.mouse.get_pos()\n",
    "    # INPUT CONTROL AREA\n",
    "    for event in pygame.event.get():\n",
    "        # key press event\n",
    "        if event.type == pygame.KEYDOWN:\n",
    "            if event.key == pygame.K_RIGHT or event.key == pygame.K_d:\n",
    "                mario1.direction.x = 1\n",
    "            elif event.key == pygame.K_LEFT or event.key == pygame.K_a:\n",
    "                mario1.direction.x = -1\n",
    "            elif event.key == pygame.K_UP or event.key == pygame.K_w:\n",
    "                mario1.direction.y = -1\n",
    "            elif event.key == pygame.K_DOWN or event.key == pygame.K_s:\n",
    "                mario1.direction.y = +1\n",
    "        #key left event -> quando lascio il tasto, la velocità si ferma.\n",
    "        if event.type == pygame.KEYUP:\n",
    "            if (event.key == pygame.K_RIGHT or event.key == pygame.K_d) and mario1.direction.x == 1: #se lascio la freccia destra o freccia d e se la direzione x vale 1, allora \n",
    "                mario1.direction.x = 0\n",
    "            elif (event.key == pygame.K_LEFT or event.key == pygame.K_a) and mario1.direction.x == -1:\n",
    "                mario1.direction.x = 0\n",
    "            elif (event.key == pygame.K_UP or event.key == pygame.K_w) and mario1.direction.y == -1:\n",
    "                mario1.direction.y = 0\n",
    "            elif (event.key == pygame.K_DOWN or event.key == pygame.K_s) and mario1.direction.y == 1:\n",
    "                mario1.direction.y = 0\n",
    "         \n",
    "\n",
    "        # se l'evento è di tipo QUIT...\n",
    "        if event.type == pygame.QUIT:\n",
    "            pygame.quit()\n",
    "            sys.exit()\n",
    "\n",
    "    # Collision control area\n",
    "    for zombie in enemy_group: #questo sistema funziona per inifniti zombie.\n",
    "        if zombie.rect.collindirect(hero.rect):\n",
    "            pygame.quit()\n",
    "            sys.exit() #chiudi il gioco quando mario e zombie si toccano\n",
    "\n",
    "\n",
    "    # update area\n",
    "    player_group.update(mouse_x,mouse_y)\n",
    "    enemy_group.update()\n",
    "\n",
    "    # draw area --- background goes first, then the rest\n",
    "    screen.fill(\"#45d1a0\")\n",
    "    # x,y = pygame.mouse.get_pos()\n",
    "    # screen.blit(image,(x,y))\n",
    "    player_group.draw(screen)\n",
    "    enemy_group.draw(screen)\n",
    "    pygame.display.update()\n",
    "    clock.tick(60)"
   ]
  },
  {
   "cell_type": "markdown",
   "metadata": {},
   "source": [
    "Per tenere conto della vita del giocatore, dobbiamo pensare a dove metterla. \n",
    "Andiamo in player.py in def __init__ aggiungiamo:"
   ]
  },
  {
   "cell_type": "code",
   "execution_count": null,
   "metadata": {},
   "outputs": [],
   "source": [
    "self.health = 3 "
   ]
  },
  {
   "cell_type": "markdown",
   "metadata": {},
   "source": [
    "Adesso dobbiamo introdurre il fatto che la vita diminuisca di -1 quando lo zombie tocca il nostro personaggio.  Introduciamo una nuova funzione sempre in player.py, chiamata damage:"
   ]
  },
  {
   "cell_type": "code",
   "execution_count": null,
   "metadata": {},
   "outputs": [],
   "source": [
    "#player.py\n",
    "import math\n",
    "import pygame.sprite\n",
    "\n",
    "# inizializzazione di ogni player \n",
    "class Player(pygame.sprite.Sprite):\n",
    "\n",
    "    def __init__(self, image, pos): \n",
    "        super().__init__() \n",
    "        self.image = image \n",
    "        self.original_image = image\n",
    "        self.rect = self.image.get_rect() \n",
    "        self.rect.topleft = pos \n",
    "                \n",
    "        self.speed = 5\n",
    "        self.direction = pygame.math.Vector2(0,0)\n",
    "        \n",
    "        self.health = 3 \n",
    "\n",
    "\n",
    "    \n",
    "\n",
    "    def update(self, mouse_x, mouse_y):\n",
    "        angle = self.get_mouse_angle(mouse_x, mouse_y)\n",
    "        self.rot_center(angle)\n",
    "        \n",
    "        self.rect.x += self.speed * self.direction.x\n",
    "        self.rect.y += self.speed * self.direction.y\n",
    "\n",
    "    def rot_center(self, angle): #prende un immagine, la ruota, e poi aggiusta il rettangolo dal centro. Perchè se inizi a roteare, l'unica cosa che non cambia mai è il centro.\n",
    "        x = self.rect.centerx\n",
    "        y = self.rect.centery\n",
    "        image = self.original_image\n",
    "\n",
    "        rotated_image = pygame.transform.rotate(image,angle)\n",
    "        new_rect = rotated_image.get_rect(center=image.get_rect(center=(x,y)).center)\n",
    "\n",
    "        self.image = rotated_image\n",
    "        self.rect = new_rect\n",
    "\n",
    "    def get_mouse_angle(self, x, y):\n",
    "        distance_x = x - self.rect.centerx #posizione del mouse - centro del rettangolo\n",
    "        distance_y = y - self.rect.centery\n",
    "        angle = math.atan2(distance_y,distance_x)\n",
    "\n",
    "        return -angle*180/math.pi #conversione in gradi\n",
    "\n",
    "    def damage(self,amount=1): #amount è un parametro; se per caso non mi passi l'ammontare di danno io presumo sia uno\n",
    "        self.health -= amount"
   ]
  },
  {
   "cell_type": "markdown",
   "metadata": {},
   "source": [
    "Modifichiamo nuovamente la collision control area:"
   ]
  },
  {
   "cell_type": "code",
   "execution_count": null,
   "metadata": {},
   "outputs": [],
   "source": [
    "# Collision control area\n",
    "    for zombie in enemy_group: #questo sistema funziona per inifniti zombie.\n",
    "        if zombie.rect.collindirect(hero.rect):\n",
    "            hero.damage()\n",
    "            print(hero.health)"
   ]
  },
  {
   "cell_type": "markdown",
   "metadata": {},
   "source": [
    "Ma in questo modo, la vita cala troppo rapidamente, dato che prendiamo 60 danni al secondo. Ma se abbiamo solo 3 punti vita, muoriamo in 1/20 secondi; che è troppo poco! Dobbiamo trovare un fix.\n",
    "\n",
    "Un idea è quello di porre un limite di tempo.\n",
    "In molti giochi, dopo essere colpito, si ha un tempo di grazia, in cui il giocatore non può essere colpito.\n",
    "\n",
    "In player.py, nella definizione di __init__ introduciamo:"
   ]
  },
  {
   "cell_type": "code",
   "execution_count": null,
   "metadata": {},
   "outputs": [],
   "source": [
    "self.grace_frames = 60\n",
    "self.grace_timer = 60 "
   ]
  },
  {
   "cell_type": "markdown",
   "metadata": {},
   "source": [
    "Così abbiamo introdotto 60 frame \"di grazia\" per il giocatore."
   ]
  },
  {
   "cell_type": "markdown",
   "metadata": {},
   "source": [
    "Torniamo alla definizione di damage in player.py:"
   ]
  },
  {
   "cell_type": "code",
   "execution_count": null,
   "metadata": {},
   "outputs": [],
   "source": [
    "def damage(self, amount = 1): #amount è un parametro; se per caso non mi passi l'ammontare di danno io presumo sia uno\n",
    "    if self.grace_timer >= self.grace_frames:\n",
    "        self.health -= amount\n",
    "        self.grace_timer = 0 "
   ]
  },
  {
   "cell_type": "markdown",
   "metadata": {},
   "source": [
    "E in def update di player.py possiamo introdurre:"
   ]
  },
  {
   "cell_type": "code",
   "execution_count": null,
   "metadata": {},
   "outputs": [],
   "source": [
    "self.grace_timer += 1"
   ]
  },
  {
   "cell_type": "markdown",
   "metadata": {},
   "source": [
    "Codici per adesso:"
   ]
  },
  {
   "cell_type": "code",
   "execution_count": null,
   "metadata": {},
   "outputs": [],
   "source": [
    "#player.py\n",
    "\n",
    "import math\n",
    "import pygame.sprite\n",
    "\n",
    "# inizializzazione di ogni player \n",
    "class Player(pygame.sprite.Sprite):\n",
    "\n",
    "    def __init__(self, image, pos): \n",
    "        super().__init__() \n",
    "        self.image = image \n",
    "        self.original_image = image\n",
    "        self.rect = self.image.get_rect() \n",
    "        self.rect.topleft = pos \n",
    "                \n",
    "        self.speed = 5\n",
    "        self.direction = pygame.math.Vector2(0,0)\n",
    "        \n",
    "        self.health = 3 \n",
    "\n",
    "        self.grace_frames = 60\n",
    "        self.grace_timer = 60 \n",
    "\n",
    "\n",
    "    \n",
    "\n",
    "    def update(self, mouse_x, mouse_y):\n",
    "        angle = self.get_mouse_angle(mouse_x, mouse_y)\n",
    "        self.rot_center(angle)\n",
    "        \n",
    "        self.rect.x += self.speed * self.direction.x\n",
    "        self.rect.y += self.speed * self.direction.y\n",
    "\n",
    "        self.grace_timer += 1\n",
    "\n",
    "    def rot_center(self, angle): #prende un immagine, la ruota, e poi aggiusta il rettangolo dal centro. Perchè se inizi a roteare, l'unica cosa che non cambia mai è il centro.\n",
    "        x = self.rect.centerx\n",
    "        y = self.rect.centery\n",
    "        image = self.original_image\n",
    "\n",
    "        rotated_image = pygame.transform.rotate(image,angle)\n",
    "        new_rect = rotated_image.get_rect(center=image.get_rect(center=(x,y)).center)\n",
    "\n",
    "        self.image = rotated_image\n",
    "        self.rect = new_rect\n",
    "\n",
    "    def get_mouse_angle(self, x, y):\n",
    "        distance_x = x - self.rect.centerx #posizione del mouse - centro del rettangolo\n",
    "        distance_y = y - self.rect.centery\n",
    "        angle = math.atan2(distance_y,distance_x)\n",
    "\n",
    "        return -angle*180/math.pi #conversione in gradi\n",
    "\n",
    "    def damage(self, amount = 1): #amount è un parametro; se per caso non mi passi l'ammontare di danno io presumo sia uno\n",
    "        if self.grace_timer >= self.grace_frames:\n",
    "            self.health -= amount\n",
    "            self.grace_timer = 0 "
   ]
  },
  {
   "cell_type": "code",
   "execution_count": null,
   "metadata": {},
   "outputs": [],
   "source": [
    "#main.py\n",
    "import random\n",
    "import sys\n",
    "import pygame\n",
    "import player\n",
    "import math\n",
    "import enemy\n",
    "\n",
    "# per far partire i processi di pygame, devo far partire l' init\n",
    "pygame.init()\n",
    "clock = pygame.time.Clock()\n",
    "pygame.display.set_caption(\"Montecreto Mount of Madness\")\n",
    "screen = pygame.display.set_mode((800, 600))\n",
    "\n",
    "# image zone\n",
    "image = pygame.image.load(\"C:\\\\Users\\\\ASUS\\\\OneDrive - Alma Mater Studiorum Università di Bologna\\\\Documents\\\\Lavoro - Educatore Digitale\\\\Montecreto\\\\giochi dei ragazzi\\\\Alex\\\\img\\\\Luigi.png\")\n",
    "mario1 = player.Player(image, (400, 300))\n",
    "enemy_image = pygame.image.load(\"img/zomibie.png\")\n",
    "zombie = enemy.Enemy(enemy_image,(400,500)) #pesca dal modulo enemy, la classe Enemy e setta come immagine zombie enemy con quella grandezza\n",
    "\n",
    "# sprite zone\n",
    "player_group = pygame.sprite.Group()\n",
    "player_group.add(mario1)\n",
    "enemy_group = pygame.sprite.Group()\n",
    "enemy_group.add(zombie)\n",
    "\n",
    "\n",
    "\n",
    "# gameplay cycle\n",
    "while True:\n",
    "    mouse_x, mouse_y = pygame.mouse.get_pos()\n",
    "    # INPUT CONTROL AREA\n",
    "    for event in pygame.event.get():\n",
    "        # key press event\n",
    "        if event.type == pygame.KEYDOWN:\n",
    "            if event.key == pygame.K_RIGHT or event.key == pygame.K_d:\n",
    "                mario1.direction.x = 1\n",
    "            elif event.key == pygame.K_LEFT or event.key == pygame.K_a:\n",
    "                mario1.direction.x = -1\n",
    "            elif event.key == pygame.K_UP or event.key == pygame.K_w:\n",
    "                mario1.direction.y = -1\n",
    "            elif event.key == pygame.K_DOWN or event.key == pygame.K_s:\n",
    "                mario1.direction.y = +1\n",
    "        #key left event -> quando lascio il tasto, la velocità si ferma.\n",
    "        if event.type == pygame.KEYUP:\n",
    "            if (event.key == pygame.K_RIGHT or event.key == pygame.K_d) and mario1.direction.x == 1: #se lascio la freccia destra o freccia d e se la direzione x vale 1, allora \n",
    "                mario1.direction.x = 0\n",
    "            elif (event.key == pygame.K_LEFT or event.key == pygame.K_a) and mario1.direction.x == -1:\n",
    "                mario1.direction.x = 0\n",
    "            elif (event.key == pygame.K_UP or event.key == pygame.K_w) and mario1.direction.y == -1:\n",
    "                mario1.direction.y = 0\n",
    "            elif (event.key == pygame.K_DOWN or event.key == pygame.K_s) and mario1.direction.y == 1:\n",
    "                mario1.direction.y = 0\n",
    "         \n",
    "\n",
    "        # se l'evento è di tipo QUIT...\n",
    "        if event.type == pygame.QUIT:\n",
    "            pygame.quit()\n",
    "            sys.exit()\n",
    "\n",
    "    # Collision control area\n",
    "    for zombie in enemy_group: #questo sistema funziona per inifniti zombie.\n",
    "        if zombie.rect.collindirect(hero.rect):\n",
    "            hero.damage()\n",
    "            if hero.health <= 0:\n",
    "                pygame.quit()\n",
    "                sys.exit() #chiudi il gioco quando mario e zombie si toccano\n",
    "\n",
    "\n",
    "    # update area\n",
    "    player_group.update(mouse_x,mouse_y)\n",
    "    enemy_group.update()\n",
    "\n",
    "    # draw area --- background goes first, then the rest\n",
    "    screen.fill(\"#45d1a0\")\n",
    "    # x,y = pygame.mouse.get_pos()\n",
    "    # screen.blit(image,(x,y))\n",
    "    player_group.draw(screen)\n",
    "    enemy_group.draw(screen)\n",
    "    pygame.display.update()\n",
    "    clock.tick(60)"
   ]
  },
  {
   "cell_type": "code",
   "execution_count": null,
   "metadata": {},
   "outputs": [],
   "source": [
    "# enemy.py\n",
    "\n",
    "import math\n",
    "import pygame.sprite\n",
    "\n",
    "# inizializzazione di ogni player \n",
    "class Enemy(pygame.sprite.Sprite):\n",
    "\n",
    "    def __init__(self, image, pos): #self si riferisce al nemico specifico\n",
    "        super().__init__() \n",
    "        self.image = image \n",
    "        self.original_image = image\n",
    "        self.rect = self.image.get_rect() \n",
    "        self.rect.topleft = pos \n",
    "                \n",
    "        self.speed = 5\n",
    "        self.direction = pygame.math.Vector2(0,0)"
   ]
  },
  {
   "cell_type": "markdown",
   "metadata": {},
   "source": [
    "Adesso introduciamo più feedback, per mostrare più esplicitamente che stiamo prendendo danno.\n",
    "Introduciamo degli effetti sonori al nostro gioco. Troviamo una traccia audio e andiamo in player.py.\n",
    "Esiste un modulo di pygame che ci permette di gestire gli effetti sonori. Questo modulo si chiama:"
   ]
  },
  {
   "cell_type": "code",
   "execution_count": null,
   "metadata": {},
   "outputs": [],
   "source": [
    "from pygame import mixer"
   ]
  },
  {
   "cell_type": "markdown",
   "metadata": {},
   "source": [
    "Dopodichè introduciamo il suono nella definzione di __init__ in player.py. Lo chiamiamo self.oof, in questo modo sara visibile a tutti i metodi (funzioni) dello stesso giocatore. Mettiamola poi in play nella funzione damage:"
   ]
  },
  {
   "cell_type": "code",
   "execution_count": null,
   "metadata": {},
   "outputs": [],
   "source": [
    "#player.py\n",
    "\n",
    "import math\n",
    "import pygame.sprite\n",
    "\n",
    "# inizializzazione di ogni player \n",
    "class Player(pygame.sprite.Sprite):\n",
    "\n",
    "    def __init__(self, image, pos): \n",
    "        super().__init__() \n",
    "        self.image = image \n",
    "        self.original_image = image\n",
    "        self.rect = self.image.get_rect() \n",
    "        self.rect.topleft = pos \n",
    "\n",
    "        #game attributes        \n",
    "        self.speed = 5\n",
    "        self.direction = pygame.math.Vector2(0,0)\n",
    "        self.health = 3\n",
    "        self.grace_frames = 60\n",
    "        self.grace_timer = 60\n",
    "\n",
    "        #audio files\n",
    "        self.oof = mixer.Sound(\"sound/oof.mp3\")\n",
    "\n",
    "\n",
    "    \n",
    "\n",
    "    def update(self, mouse_x, mouse_y):\n",
    "        angle = self.get_mouse_angle(mouse_x, mouse_y)\n",
    "        self.rot_center(angle)\n",
    "        \n",
    "        self.rect.x += self.speed * self.direction.x\n",
    "        self.rect.y += self.speed * self.direction.y\n",
    "\n",
    "        self.grace_timer += 1\n",
    "\n",
    "    def rot_center(self, angle): #prende un immagine, la ruota, e poi aggiusta il rettangolo dal centro. Perchè se inizi a roteare, l'unica cosa che non cambia mai è il centro.\n",
    "        x = self.rect.centerx\n",
    "        y = self.rect.centery\n",
    "        image = self.original_image\n",
    "\n",
    "        rotated_image = pygame.transform.rotate(image,angle)\n",
    "        new_rect = rotated_image.get_rect(center=image.get_rect(center=(x,y)).center)\n",
    "\n",
    "        self.image = rotated_image\n",
    "        self.rect = new_rect\n",
    "\n",
    "    def get_mouse_angle(self, x, y):\n",
    "        distance_x = x - self.rect.centerx #posizione del mouse - centro del rettangolo\n",
    "        distance_y = y - self.rect.centery\n",
    "        angle = math.atan2(distance_y,distance_x)\n",
    "\n",
    "        return -angle*180/math.pi #conversione in gradi\n",
    "\n",
    "    def damage(self, amount = 1): #amount è un parametro; se per caso non mi passi l'ammontare di danno io presumo sia uno\n",
    "        if self.grace_timer >= self.grace_frames:\n",
    "            self.health -= amount\n",
    "            self.grace_timer = 0\n",
    "            \n",
    "            oof.play()"
   ]
  },
  {
   "cell_type": "markdown",
   "metadata": {},
   "source": [
    "Introduciamo ora i cuori come punti vita. Per farlo creiamo un nuovo modulo ui.py.\n",
    "Per fare ordine, adesso abbiamo 4 file in totale:\n",
    "- main.py\n",
    "- player.py\n",
    "- enemy.py\n",
    "- ui.py"
   ]
  },
  {
   "cell_type": "code",
   "execution_count": null,
   "metadata": {},
   "outputs": [],
   "source": [
    "# ui.py\n",
    "import pygame\n",
    "\n",
    "class Ui(): #non ci metto dentro nulla perchè non mi serve gestirla come un personaggio\n",
    "    \n",
    "    def __init__(self, scree, hero): #screen è parametro\n",
    "        screen = pygame.display.set_mode(())\n",
    "        self.score = 0\n",
    "        self.font = pygame.font.Font(\"freesansbold.ttf\",60)\n",
    "        self.screen = screen\n",
    "        self.hero = hero #così avremo un personaggio dal quale gestiamo la vita\n",
    "    \n",
    "    def draw(self):\n",
    "        font = self.font\n",
    "        screen = self.screen\n",
    "\n",
    "        health_counter = font.render(f\"HP: {self.hero.get_health()}\", True, (255,255,255)) #true serve per l'antialising, e il vettore successivo è per il colore\n",
    "        screen.blit(healt_counter, (0,0))        "
   ]
  },
  {
   "cell_type": "markdown",
   "metadata": {},
   "source": [
    "E adesso però dobbiamo definire l'interfaccia nell'image zone del main, oltre a disegnare questa scritta nella draw area:"
   ]
  },
  {
   "cell_type": "code",
   "execution_count": null,
   "metadata": {},
   "outputs": [],
   "source": [
    "#main.py\n",
    "\n",
    "import random\n",
    "import sys\n",
    "import pygame\n",
    "import player\n",
    "import math\n",
    "import enemy\n",
    "\n",
    "# per far partire i processi di pygame, devo far partire l' init\n",
    "pygame.init()\n",
    "clock = pygame.time.Clock()\n",
    "pygame.display.set_caption(\"Montecreto Mount of Madness\")\n",
    "screen = pygame.display.set_mode((800, 600))\n",
    "\n",
    "# image zone\n",
    "image = pygame.image.load(\"C:\\\\Users\\\\ASUS\\\\OneDrive - Alma Mater Studiorum Università di Bologna\\\\Documents\\\\Lavoro - Educatore Digitale\\\\Montecreto\\\\giochi dei ragazzi\\\\Alex\\\\img\\\\Luigi.png\")\n",
    "mario1 = player.Player(image, (400, 300))\n",
    "enemy_image = pygame.image.load(\"img/zomibie.png\")\n",
    "zombie = enemy.Enemy(enemy_image,(400,500)) #pesca dal modulo enemy, la classe Enemy e setta come immagine zombie enemy con quella grandezza\n",
    "interface = ui.Ui(screen,hero )\n",
    "\n",
    "# sprite zone\n",
    "player_group = pygame.sprite.Group()\n",
    "player_group.add(mario1)\n",
    "enemy_group = pygame.sprite.Group()\n",
    "enemy_group.add(zombie)\n",
    "\n",
    "\n",
    "\n",
    "# gameplay cycle\n",
    "while True:\n",
    "    mouse_x, mouse_y = pygame.mouse.get_pos()\n",
    "    # INPUT CONTROL AREA\n",
    "    for event in pygame.event.get():\n",
    "        # key press event\n",
    "        if event.type == pygame.KEYDOWN:\n",
    "            if event.key == pygame.K_RIGHT or event.key == pygame.K_d:\n",
    "                mario1.direction.x = 1\n",
    "            elif event.key == pygame.K_LEFT or event.key == pygame.K_a:\n",
    "                mario1.direction.x = -1\n",
    "            elif event.key == pygame.K_UP or event.key == pygame.K_w:\n",
    "                mario1.direction.y = -1\n",
    "            elif event.key == pygame.K_DOWN or event.key == pygame.K_s:\n",
    "                mario1.direction.y = +1\n",
    "        #key left event -> quando lascio il tasto, la velocità si ferma.\n",
    "        if event.type == pygame.KEYUP:\n",
    "            if (event.key == pygame.K_RIGHT or event.key == pygame.K_d) and mario1.direction.x == 1: #se lascio la freccia destra o freccia d e se la direzione x vale 1, allora \n",
    "                mario1.direction.x = 0\n",
    "            elif (event.key == pygame.K_LEFT or event.key == pygame.K_a) and mario1.direction.x == -1:\n",
    "                mario1.direction.x = 0\n",
    "            elif (event.key == pygame.K_UP or event.key == pygame.K_w) and mario1.direction.y == -1:\n",
    "                mario1.direction.y = 0\n",
    "            elif (event.key == pygame.K_DOWN or event.key == pygame.K_s) and mario1.direction.y == 1:\n",
    "                mario1.direction.y = 0\n",
    "         \n",
    "\n",
    "        # se l'evento è di tipo QUIT...\n",
    "        if event.type == pygame.QUIT:\n",
    "            pygame.quit()\n",
    "            sys.exit()\n",
    "\n",
    "    # Collision control area\n",
    "    for zombie in enemy_group: #questo sistema funziona per inifniti zombie.\n",
    "        if zombie.rect.collindirect(hero.rect):\n",
    "            hero.damage()\n",
    "            if hero.health <= 0:\n",
    "                pygame.quit()\n",
    "                sys.exit() #chiudi il gioco quando mario e zombie si toccano\n",
    "\n",
    "\n",
    "    # update area\n",
    "    player_group.update(mouse_x,mouse_y)\n",
    "    enemy_group.update()\n",
    "\n",
    "    # draw area --- background goes first, then the rest. At the bottom goes the UI\n",
    "    screen.fill(\"#45d1a0\")\n",
    "    # x,y = pygame.mouse.get_pos()\n",
    "    # screen.blit(image,(x,y))\n",
    "    enemy_group.draw(screen)\n",
    "    player_group.draw(screen)\n",
    "    interface.draw()\n",
    "    pygame.display.update()\n",
    "    clock.tick(60)"
   ]
  },
  {
   "cell_type": "markdown",
   "metadata": {},
   "source": [
    "Ma in questo modo esce fuori solo la scritta HEALTH COUNTER, ma non viene segnata effettivamente la vita del nostro giocatore. Per fare questo creiamo un nuovo metodo (funzione) in player, per dirci quanta vita ha il giocatore."
   ]
  },
  {
   "cell_type": "code",
   "execution_count": null,
   "metadata": {},
   "outputs": [],
   "source": [
    "#player.py\n",
    "\n",
    "import math\n",
    "import pygame.sprite\n",
    "\n",
    "# inizializzazione di ogni player \n",
    "class Player(pygame.sprite.Sprite):\n",
    "\n",
    "    def __init__(self, image, pos): \n",
    "        super().__init__() \n",
    "        self.image = image \n",
    "        self.original_image = image\n",
    "        self.rect = self.image.get_rect() \n",
    "        self.rect.topleft = pos \n",
    "\n",
    "        #game attributes        \n",
    "        self.speed = 5\n",
    "        self.direction = pygame.math.Vector2(0,0)\n",
    "        self.health = 3\n",
    "        self.grace_frames = 60\n",
    "        self.grace_timer = 60\n",
    "\n",
    "        #audio files\n",
    "        self.oof = mixer.Sound(\"sound/oof.mp3\")\n",
    "\n",
    "\n",
    "    \n",
    "\n",
    "    def update(self, mouse_x, mouse_y):\n",
    "        angle = self.get_mouse_angle(mouse_x, mouse_y)\n",
    "        self.rot_center(angle)\n",
    "        \n",
    "        self.rect.x += self.speed * self.direction.x\n",
    "        self.rect.y += self.speed * self.direction.y\n",
    "\n",
    "        self.grace_timer += 1\n",
    "\n",
    "    def rot_center(self, angle): #prende un immagine, la ruota, e poi aggiusta il rettangolo dal centro. Perchè se inizi a roteare, l'unica cosa che non cambia mai è il centro.\n",
    "        x = self.rect.centerx\n",
    "        y = self.rect.centery\n",
    "        image = self.original_image\n",
    "\n",
    "        rotated_image = pygame.transform.rotate(image,angle)\n",
    "        new_rect = rotated_image.get_rect(center=image.get_rect(center=(x,y)).center)\n",
    "\n",
    "        self.image = rotated_image\n",
    "        self.rect = new_rect\n",
    "\n",
    "    def get_mouse_angle(self, x, y):\n",
    "        distance_x = x - self.rect.centerx #posizione del mouse - centro del rettangolo\n",
    "        distance_y = y - self.rect.centery\n",
    "        angle = math.atan2(distance_y,distance_x)\n",
    "\n",
    "        return -angle*180/math.pi #conversione in gradi\n",
    "\n",
    "    def damage(self, amount = 1): #amount è un parametro; se per caso non mi passi l'ammontare di danno io presumo sia uno\n",
    "        if self.grace_timer >= self.grace_frames:\n",
    "            self.health -= amount\n",
    "            self.grace_timer = 0\n",
    "            self.oof.play()\n",
    "\n",
    "    def get_health(self):\n",
    "        return self.health"
   ]
  },
  {
   "cell_type": "markdown",
   "metadata": {},
   "source": [
    "# Pomeriggio\n",
    "Implementazione del modulo bullet.py, presente nella prossima lecture."
   ]
  }
 ],
 "metadata": {
  "kernelspec": {
   "display_name": "Python 3.9.13 64-bit (windows store)",
   "language": "python",
   "name": "python3"
  },
  "language_info": {
   "codemirror_mode": {
    "name": "ipython",
    "version": 3
   },
   "file_extension": ".py",
   "mimetype": "text/x-python",
   "name": "python",
   "nbconvert_exporter": "python",
   "pygments_lexer": "ipython3",
   "version": "3.9.13"
  },
  "orig_nbformat": 4,
  "vscode": {
   "interpreter": {
    "hash": "a5a87ee616be0254e3f1af9223138e3faeac65b2c9d91bc22a9fc5a4a8bd8eb0"
   }
  }
 },
 "nbformat": 4,
 "nbformat_minor": 2
}
