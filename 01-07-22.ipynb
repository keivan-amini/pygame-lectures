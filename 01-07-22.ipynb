{
 "cells": [
  {
   "cell_type": "markdown",
   "metadata": {},
   "source": [
    "# Venerdì 1 luglio 2022\n",
    "##  Mattina mancante\n",
    "Abbiamo creato un nuovo proiettile, abbiamo sistemato la generazione dei mostri.\n",
    "\n",
    "feature che volevamo aggiungere: un boss che arriva ad un certo punto e stiamo facendo la sua ai che intercetta dentro l'update.\n",
    "Se il mostro è di tipo eye, parte la sua ai che lo fa comportare in maniera particolare.\n",
    "L'occhio si muove verso il player e lo guardi, si tenga ad una distanza costante e cerchi di mantenerla dal giocatore. La distanza è semplicemente ricavabile dal teorema di pitagora."
   ]
  },
  {
   "cell_type": "markdown",
   "metadata": {},
   "source": [
    "## Pomeriggio\n",
    "Abbiamo diversi tipi di mostri: fast, eye.\n",
    "Implementazione dell'AI rispetto all'occhio (Il nuovo boss)."
   ]
  },
  {
   "cell_type": "code",
   "execution_count": null,
   "metadata": {},
   "outputs": [],
   "source": [
    "def eye_ai(self,player):\n",
    "    distance_x = player.rect.x - self.rect.x\n",
    "    distance_x = abs(distance_x)\n",
    "    distance_y = player.rect.y - self.rect.y\n",
    "    distance_y = abs(distance_y)\n",
    "\n",
    "    distance = math.sqrt(distance_x ** 2 + distance_y ** 2)\n",
    "\n",
    "    if distance > Enemy.EYE_HOVER_DISTANCE:\n",
    "        pass\n",
    "    elif distance < Enemy.EYE_HOVER_DISTANCE:\n",
    "        self.direction *= -1\n",
    "    else:\n",
    "        pass"
   ]
  },
  {
   "cell_type": "markdown",
   "metadata": {},
   "source": [
    "Per mantenere costante la distanza tra il boss e il player, bisogna calcolare il vettore direzione. In enemy.py, nella definizione di get_player_angle:"
   ]
  },
  {
   "cell_type": "code",
   "execution_count": null,
   "metadata": {},
   "outputs": [],
   "source": [
    "        distance = pygame.math.Vector2(distance_x,distance_y)\n",
    "        self.distance_unit = pygame.math.Vector2.normalize(distance)"
   ]
  },
  {
   "cell_type": "markdown",
   "metadata": {},
   "source": [
    "Poi si può caricare su google drive proprio il progetto personale che è stato realizzato. L'ultima ora di lezione può essere proprio adibita a realizzare particolarità del videogioco.\n",
    "\n",
    "Per fare spawnare il boss, introduciamo una variabile in settings.py:"
   ]
  },
  {
   "cell_type": "code",
   "execution_count": null,
   "metadata": {},
   "outputs": [],
   "source": [
    "boss_spawned = False\n",
    "# perchè ancora non è spawnato!"
   ]
  },
  {
   "cell_type": "markdown",
   "metadata": {},
   "source": [
    "Nella spawn area del main.py introduciamo il meccanismo per cui se si arriva a 50 punti, arriva il boss."
   ]
  },
  {
   "cell_type": "code",
   "execution_count": null,
   "metadata": {},
   "outputs": [],
   "source": [
    "if enemy_timer <= 0:\n",
    "    if settings.score >= 50 and not settings.boss_spawned:\n",
    "        settings.boss_spawned = True\n",
    "        boss = enemy.Enemy(type=\"eye\", pos = (400,-400))\n",
    "    elif settings.score <50:\n",
    "        enemy_group.add(spawner.random_spawn())"
   ]
  }
 ],
 "metadata": {
  "kernelspec": {
   "display_name": "Python 3.9.13 64-bit (windows store)",
   "language": "python",
   "name": "python3"
  },
  "language_info": {
   "codemirror_mode": {
    "name": "ipython",
    "version": 3
   },
   "file_extension": ".py",
   "mimetype": "text/x-python",
   "name": "python",
   "nbconvert_exporter": "python",
   "pygments_lexer": "ipython3",
   "version": "3.9.13"
  },
  "orig_nbformat": 4,
  "vscode": {
   "interpreter": {
    "hash": "a5a87ee616be0254e3f1af9223138e3faeac65b2c9d91bc22a9fc5a4a8bd8eb0"
   }
  }
 },
 "nbformat": 4,
 "nbformat_minor": 2
}
