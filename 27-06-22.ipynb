{
 "cells": [
  {
   "cell_type": "markdown",
   "metadata": {},
   "source": [
    "# Seconde lezioni, lunedì 27 giugno\n",
    "\n",
    "In mattinata sono stati affrontate le liste, le funzioni e le classi con Python."
   ]
  },
  {
   "cell_type": "markdown",
   "metadata": {},
   "source": [
    "# Parte pomeridiana\n",
    "Noi possiamo \"ereditare\" da una classe. Definiamo la classe in alto e ci possiamo mettere la classe genitore, cioè quella da cui ereditiamo tutte le funzionalità.\n",
    "Quando definiamo una nuova classe, dobbiamo definire cosa fa una funzione. "
   ]
  },
  {
   "cell_type": "code",
   "execution_count": 1,
   "metadata": {},
   "outputs": [
    {
     "name": "stdout",
     "output_type": "stream",
     "text": [
      "pygame 2.1.2 (SDL 2.0.18, Python 3.9.13)\n",
      "Hello from the pygame community. https://www.pygame.org/contribute.html\n"
     ]
    }
   ],
   "source": [
    "# crea un file chiamato player.py\n",
    "\n",
    "import pygame.sprite\n",
    "\n",
    "# inizializzazione di ogni player \n",
    "class Player(pygame.sprite.Sprite):\n",
    "\n",
    "    def __init__(self, image, pos): #inizializzazione di ogni membro di questa classe, è il setup delle variabili\n",
    "        super().__init__() #funzione speciale che richiama le funzioni del padre\n",
    "        self.image = image #inizializzo\n",
    "        self.react = self.image.get_rect() #disegna automaticamente un rettangolo grande quanto l'immagine, e lo lega all'immagine\n",
    "        self.rect.topleft = pos # il suo punto in alto a sinistra deve essere uguale alla posizione. questo perchè in pygame il centro dell'immagine è in alto a sinistra\n",
    "        "
   ]
  },
  {
   "cell_type": "markdown",
   "metadata": {},
   "source": [
    "voglio che quando creo un giocatore, io ho un image (l'immagine) e un rect (rettangolo che determina la posizione nello spazio dell'image).\n",
    "\n",
    "Nel rettangolo, bisogna specificare quanto è grande e grosso. In realtà il rettangolo deve essere grande quanto l'immagine, e in questo caso si utilizza la funzione self.image.get_rect."
   ]
  },
  {
   "cell_type": "markdown",
   "metadata": {},
   "source": [
    "Vogliamo creare tanti Mario che girano nello schermo."
   ]
  },
  {
   "cell_type": "code",
   "execution_count": null,
   "metadata": {},
   "outputs": [],
   "source": [
    "import sys\n",
    "import random\n",
    "import pygame\n",
    "# import player (importa file player.py)\n",
    "\n",
    "pygame.init()\n",
    "clock = pygame.time.Clock()\n",
    "pygame.display.set_caption(\"Montecreto Mount of Madness\")\n",
    "screen = pygame.display.set_mode((800,600))\n",
    "\n",
    "#image zone\n",
    "image = pygame.image.load('C:\\\\Users\\\\ASUS\\\\OneDrive - Alma Mater Studiorum Università di Bologna\\\\Documents\\\\Lavoro - Educatore Digitale\\\\Montecreto\\\\giochi dei ragazzi\\\\Alex\\\\img\\\\Luigi.png')\n",
    "mario1 = player.Player(image,(400,300)) #ci manca esplicitare il fatto che lo vogliamo esplicitato\n",
    "\n",
    "\n",
    "#sprite zone: zona di gestione dei gruppi di sprite\n",
    "# c'è un sistema che permette di siegnare una lista di sprite, chiamata GRUPPO.\n",
    "\n",
    "player_group = pygame.sprite.Group()\n",
    "player_group.add(mario1) # i giocatori sono discendenti di sprite\n",
    "\n",
    "\n",
    "\n",
    "#bullshit zone (cazzata)\n",
    "for mario in range(1,201):\n",
    "    x = random.randint(0,700)\n",
    "    y = random.randint(0,600)\n",
    "    player_group.add(player.Player(image),(x,y))\n",
    "\n",
    "\n",
    "#gameplay cycle\n",
    "while True:\n",
    "    for event in pygame.event.get():\n",
    "        if event.type == pygame.QUIT:\n",
    "            pygame.quit()\n",
    "            sys.exit()\n",
    "\n",
    "\n",
    "# draw area\n",
    "\n",
    "screen.fill(\"#45d1a0\")\n",
    "player_group.draw(screen) #metodo della classe gruppo per disegnare tutto ciò che c'è nella classe gruppo\n",
    "pygame.display.update()\n",
    "clock.tick(60)\n"
   ]
  },
  {
   "cell_type": "markdown",
   "metadata": {},
   "source": [
    "Siamo riusciti a printare 200 mario disposti randomicamente sullo schermo del videogioco, ma adesso ci serve un modo per far interagire il giocatore con lo stato del mondo.\n",
    "\n",
    "Torniamo in player.py:"
   ]
  },
  {
   "cell_type": "code",
   "execution_count": null,
   "metadata": {},
   "outputs": [],
   "source": [
    "import pygame.sprite\n",
    "\n",
    "# inizializzazione di ogni player \n",
    "class Player(pygame.sprite.Sprite):\n",
    "\n",
    "    def __init__(self, image, pos): #inizializzazione di ogni membro di questa classe, è il setup delle variabili\n",
    "        super().__init__() #funzione speciale che richiama le funzioni del padre\n",
    "        self.image = image #inizializzo\n",
    "        self.react = self.image.get_rect() #disegna automaticamente un rettangolo grande quanto l'immagine, e lo lega all'immagine\n",
    "        self.rect.topleft = pos # il suo punto in alto a sinistra deve essere uguale alla posizione. questo perchè in pygame il centro dell'immagine è in alto a sinistra\n",
    "        self.size = 256 #grandezza pixel mario\n",
    "\n",
    "\n",
    "    def update(self):\n",
    "        #qua si gestiscono tutti i cambiamenti di stato dello sprite.\n",
    "        self.size -= 1\n",
    "        self.image = pygame.transform.scale(self.image, (self.size,self.size)) #un sacco di mario che rimpiccioliscono\n",
    "        "
   ]
  },
  {
   "cell_type": "markdown",
   "metadata": {},
   "source": [
    "ma questo update non parte da solo: creiamo in main.py una update area"
   ]
  },
  {
   "cell_type": "code",
   "execution_count": null,
   "metadata": {},
   "outputs": [],
   "source": [
    "# update area\n",
    "player_group.update()"
   ]
  },
  {
   "cell_type": "markdown",
   "metadata": {},
   "source": [
    "In realtà i mario non diventano più piccoli, ma vengono tagliati i piedi! questo perchè noi abbiamo usato la funzione pygame.transform.scale.\n",
    "\n",
    "Con queste linee di codice invece, la massa dei 200 mario si muove verso sinistra:"
   ]
  },
  {
   "cell_type": "code",
   "execution_count": null,
   "metadata": {},
   "outputs": [],
   "source": [
    "#in player.py\n",
    "\n",
    "def update(self):\n",
    "    self.rect.x -= 1"
   ]
  },
  {
   "cell_type": "markdown",
   "metadata": {},
   "source": [
    "Fatto ciò, cancelliamo la bullshit zone, usata solo per sperimentare.\n",
    "\n",
    "Ora come ora mario si muove solo verso sinistra. Mettiamo più controllo da parte del giocatore. Quello che noi potremmo fare è gestire il personaggio e farlo muovere in base non al numero fisso, ma in base a quello che fa il giocatore. Ci servirà quindi un nuovo metodo.\n",
    "\n",
    "Vogliamo controllare gli eventi, andiamo quindi nel ciclo while contenuto nel file main.py:"
   ]
  },
  {
   "cell_type": "code",
   "execution_count": null,
   "metadata": {},
   "outputs": [],
   "source": [
    "# in main.py\n",
    "\n",
    "while True:\n",
    "    for event in pygame.event.get():\n",
    "        if event.type == pygame.KEYDOWN: #cioè, quando premiamo il tasto proprio\n",
    "            if event.key == pygame.K_RIGHT: #tasto destro\n",
    "                mario1.rect.x += 1\n",
    "\n",
    "        if event.type == pygame.QUIT:\n",
    "            pygame.quit()\n",
    "            sys.exit()"
   ]
  },
  {
   "cell_type": "markdown",
   "metadata": {},
   "source": [
    "In questo modo abbiamo ottenuto un gioco in cui mario si sposta automaticamente verso sinistra, ma con il tasto destro noi riusciamo a spostarlo verso destra.\n",
    "\n",
    "Concetto di Game Design: il gioco per adesso è macchinoso, non è responsivo e non è soddisfacente. Se noi premiamo in una direzione, vogliamo che vada in quella direzione e se teniamo premuto vogliamo che continui ad andare in quella posizione."
   ]
  }
 ],
 "metadata": {
  "kernelspec": {
   "display_name": "Python 3.9.13 64-bit (windows store)",
   "language": "python",
   "name": "python3"
  },
  "language_info": {
   "codemirror_mode": {
    "name": "ipython",
    "version": 3
   },
   "file_extension": ".py",
   "mimetype": "text/x-python",
   "name": "python",
   "nbconvert_exporter": "python",
   "pygments_lexer": "ipython3",
   "version": "3.9.13"
  },
  "orig_nbformat": 4,
  "vscode": {
   "interpreter": {
    "hash": "a5a87ee616be0254e3f1af9223138e3faeac65b2c9d91bc22a9fc5a4a8bd8eb0"
   }
  }
 },
 "nbformat": 4,
 "nbformat_minor": 2
}
